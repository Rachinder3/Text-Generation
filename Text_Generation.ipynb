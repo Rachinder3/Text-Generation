{
  "nbformat": 4,
  "nbformat_minor": 0,
  "metadata": {
    "colab": {
      "name": "Text Generation.ipynb",
      "provenance": [],
      "collapsed_sections": [],
      "authorship_tag": "ABX9TyNZISLqrwyiLK11X2QC4Ptv",
      "include_colab_link": true
    },
    "kernelspec": {
      "name": "python3",
      "display_name": "Python 3"
    },
    "language_info": {
      "name": "python"
    },
    "accelerator": "GPU"
  },
  "cells": [
    {
      "cell_type": "markdown",
      "metadata": {
        "id": "view-in-github",
        "colab_type": "text"
      },
      "source": [
        "<a href=\"https://colab.research.google.com/github/Rachinder3/Text-Generation/blob/main/Text_Generation.ipynb\" target=\"_parent\"><img src=\"https://colab.research.google.com/assets/colab-badge.svg\" alt=\"Open In Colab\"/></a>"
      ]
    },
    {
      "cell_type": "code",
      "metadata": {
        "id": "MLxyOfWplBmV"
      },
      "source": [
        "#get the data\n",
        "\n",
        "!wget https://www.gutenberg.org/files/1661/1661-0.txt -o book.txt"
      ],
      "execution_count": 1,
      "outputs": []
    },
    {
      "cell_type": "code",
      "metadata": {
        "id": "8s7uLHSkTHG8"
      },
      "source": [
        "text= open(\"/content/1661-0.txt\",'r',encoding=\"utf-8\").read()\n",
        "text=text.lower()"
      ],
      "execution_count": 2,
      "outputs": []
    },
    {
      "cell_type": "code",
      "metadata": {
        "id": "gXtiYoMZTJ1-"
      },
      "source": [
        "# getting the sentences\n",
        "sentences=text.split('\\n')"
      ],
      "execution_count": 3,
      "outputs": []
    },
    {
      "cell_type": "code",
      "metadata": {
        "id": "lCUdVsT8TJ4V"
      },
      "source": [
        "# Loading the libraries\n",
        "import tensorflow as tf\n",
        "import keras\n",
        "from keras.preprocessing.text import Tokenizer\n",
        "from keras.preprocessing.sequence import pad_sequences"
      ],
      "execution_count": 4,
      "outputs": []
    },
    {
      "cell_type": "code",
      "metadata": {
        "id": "yM7p6JdoqXYf"
      },
      "source": [
        "# Tokenizing the text\n",
        "\n",
        "tokenizer=Tokenizer(oov_token='<UNK>')"
      ],
      "execution_count": 5,
      "outputs": []
    },
    {
      "cell_type": "code",
      "metadata": {
        "id": "Lsp3PpAaqi1l"
      },
      "source": [
        "tokenizer.fit_on_texts(sentences)"
      ],
      "execution_count": 6,
      "outputs": []
    },
    {
      "cell_type": "code",
      "metadata": {
        "id": "9y6PDC15r84J"
      },
      "source": [
        "vocab_size= len(tokenizer.word_index)+ 1  # 1 takes care of oov token"
      ],
      "execution_count": 7,
      "outputs": []
    },
    {
      "cell_type": "code",
      "metadata": {
        "id": "YUxacAsQsARv",
        "colab": {
          "base_uri": "https://localhost:8080/"
        },
        "outputId": "09edd463-2bf3-4a57-800b-2566bfc77095"
      },
      "source": [
        "vocab_size"
      ],
      "execution_count": 8,
      "outputs": [
        {
          "output_type": "execute_result",
          "data": {
            "text/plain": [
              "8915"
            ]
          },
          "metadata": {},
          "execution_count": 8
        }
      ]
    },
    {
      "cell_type": "code",
      "metadata": {
        "id": "tIkwHBVys1B4"
      },
      "source": [
        "# converting words to sequences\n",
        "sequences=tokenizer.texts_to_sequences(sentences)"
      ],
      "execution_count": 9,
      "outputs": []
    },
    {
      "cell_type": "code",
      "metadata": {
        "id": "grmK3lDJtRzA"
      },
      "source": [
        "# Building n gram sequences\n",
        "\n",
        "input_sequences=[]\n",
        "\n",
        "for sequence in sequences:\n",
        "  for i in range(1,len(sequence)):\n",
        "    n_gram_sequence=sequence[:i+1]\n",
        "    input_sequences.append(n_gram_sequence)"
      ],
      "execution_count": 10,
      "outputs": []
    },
    {
      "cell_type": "code",
      "metadata": {
        "id": "VdKQ9rG9tZEW"
      },
      "source": [
        ""
      ],
      "execution_count": 10,
      "outputs": []
    },
    {
      "cell_type": "code",
      "metadata": {
        "id": "PnY8YmiFulz1",
        "colab": {
          "base_uri": "https://localhost:8080/"
        },
        "outputId": "bcaca552-a1c6-4e3e-e1b2-817c0e702840"
      },
      "source": [
        "input_sequences[0],input_sequences[1]"
      ],
      "execution_count": 11,
      "outputs": [
        {
          "output_type": "execute_result",
          "data": {
            "text/plain": [
              "([4775, 145], [4775, 145, 132])"
            ]
          },
          "metadata": {},
          "execution_count": 11
        }
      ]
    },
    {
      "cell_type": "code",
      "metadata": {
        "id": "DccTSXIQuuNM"
      },
      "source": [
        "# padding the input sequences\n",
        "\n",
        "# max sequence length\n",
        "max_sequence_len=max([len(seq) for seq in input_sequences])"
      ],
      "execution_count": 12,
      "outputs": []
    },
    {
      "cell_type": "code",
      "metadata": {
        "id": "g7HxY0fYvCAL",
        "colab": {
          "base_uri": "https://localhost:8080/"
        },
        "outputId": "84dddf9d-6b15-485c-b087-d64167c1e146"
      },
      "source": [
        "max_sequence_len"
      ],
      "execution_count": 13,
      "outputs": [
        {
          "output_type": "execute_result",
          "data": {
            "text/plain": [
              "20"
            ]
          },
          "metadata": {},
          "execution_count": 13
        }
      ]
    },
    {
      "cell_type": "code",
      "metadata": {
        "id": "T58CrHnAvDZy"
      },
      "source": [
        "# padding\n",
        "padded_sequence= pad_sequences(input_sequences,maxlen=max_sequence_len)\n"
      ],
      "execution_count": 14,
      "outputs": []
    },
    {
      "cell_type": "code",
      "metadata": {
        "id": "ts7Mm0eXvTyH",
        "colab": {
          "base_uri": "https://localhost:8080/"
        },
        "outputId": "61816046-9692-492e-cf61-7a9d94e2af6a"
      },
      "source": [
        "padded_sequence[0],padded_sequence[1]"
      ],
      "execution_count": 15,
      "outputs": [
        {
          "output_type": "execute_result",
          "data": {
            "text/plain": [
              "(array([   0,    0,    0,    0,    0,    0,    0,    0,    0,    0,    0,\n",
              "           0,    0,    0,    0,    0,    0,    0, 4775,  145], dtype=int32),\n",
              " array([   0,    0,    0,    0,    0,    0,    0,    0,    0,    0,    0,\n",
              "           0,    0,    0,    0,    0,    0, 4775,  145,  132], dtype=int32))"
            ]
          },
          "metadata": {},
          "execution_count": 15
        }
      ]
    },
    {
      "cell_type": "markdown",
      "metadata": {
        "id": "otUC0emnvqws"
      },
      "source": [
        "# Creating the input output pairs"
      ]
    },
    {
      "cell_type": "code",
      "metadata": {
        "id": "0-tkpQNxxsGb"
      },
      "source": [
        "import numpy as np"
      ],
      "execution_count": 16,
      "outputs": []
    },
    {
      "cell_type": "code",
      "metadata": {
        "id": "iv754k-YxuAz"
      },
      "source": [
        "padded_sequence=np.array(padded_sequence)"
      ],
      "execution_count": 17,
      "outputs": []
    },
    {
      "cell_type": "code",
      "metadata": {
        "id": "0cAaQAGjxyHq"
      },
      "source": [
        "x=padded_sequence[:,:-1]"
      ],
      "execution_count": 18,
      "outputs": []
    },
    {
      "cell_type": "code",
      "metadata": {
        "id": "2n0t_YeOx191"
      },
      "source": [
        "y=padded_sequence[:,-1]"
      ],
      "execution_count": 19,
      "outputs": []
    },
    {
      "cell_type": "code",
      "metadata": {
        "id": "x_k8egVZx4Mk"
      },
      "source": [
        ""
      ],
      "execution_count": 19,
      "outputs": []
    },
    {
      "cell_type": "markdown",
      "metadata": {
        "id": "tCSu3KAbx5N5"
      },
      "source": [
        "# one hot encoding the targets"
      ]
    },
    {
      "cell_type": "code",
      "metadata": {
        "id": "DOPwWCp5yanO"
      },
      "source": [
        "y=tf.keras.utils.to_categorical(y)"
      ],
      "execution_count": 20,
      "outputs": []
    },
    {
      "cell_type": "code",
      "metadata": {
        "id": "fyYk8Uk4y4N8",
        "colab": {
          "base_uri": "https://localhost:8080/"
        },
        "outputId": "3a463f56-ced6-4ebd-dcd7-ba877f5ecb7f"
      },
      "source": [
        "y.shape"
      ],
      "execution_count": 21,
      "outputs": [
        {
          "output_type": "execute_result",
          "data": {
            "text/plain": [
              "(101575, 8915)"
            ]
          },
          "metadata": {},
          "execution_count": 21
        }
      ]
    },
    {
      "cell_type": "code",
      "metadata": {
        "id": "BYPF0-Iaz__u",
        "colab": {
          "base_uri": "https://localhost:8080/"
        },
        "outputId": "3dd35803-491b-49a7-b71e-b4a8ae7bbb6a"
      },
      "source": [
        "x.shape"
      ],
      "execution_count": 22,
      "outputs": [
        {
          "output_type": "execute_result",
          "data": {
            "text/plain": [
              "(101575, 19)"
            ]
          },
          "metadata": {},
          "execution_count": 22
        }
      ]
    },
    {
      "cell_type": "markdown",
      "metadata": {
        "id": "x84dvJas0RE2"
      },
      "source": [
        "#Building the model"
      ]
    },
    {
      "cell_type": "code",
      "metadata": {
        "id": "bQc_mK0T0uz7"
      },
      "source": [
        "# Loading the dependencies\n",
        "from tensorflow.keras.models import Sequential\n",
        "from tensorflow.keras.layers import Embedding, Bidirectional, LSTM, Dense\n",
        "from tensorflow.keras.optimizers import Adam "
      ],
      "execution_count": 23,
      "outputs": []
    },
    {
      "cell_type": "code",
      "metadata": {
        "id": "ReUTgcyr1NUJ"
      },
      "source": [
        "# defining and compiling the model\n",
        "\n",
        "model=Sequential()\n",
        "model.add(Embedding(vocab_size, 100, input_length=max_sequence_len-1))\n",
        "model.add(Bidirectional(LSTM(256)))\n",
        "model.add(Dense(vocab_size, activation='softmax'))\n",
        "model.compile(loss='categorical_crossentropy', optimizer=Adam(learning_rate=0.01), metrics=['accuracy'])"
      ],
      "execution_count": 24,
      "outputs": []
    },
    {
      "cell_type": "code",
      "metadata": {
        "id": "NwKViUBg1UUp",
        "colab": {
          "base_uri": "https://localhost:8080/"
        },
        "outputId": "9e4cbd1d-f66b-496f-fda2-1470f9976e5a"
      },
      "source": [
        "model.summary()"
      ],
      "execution_count": 25,
      "outputs": [
        {
          "output_type": "stream",
          "name": "stdout",
          "text": [
            "Model: \"sequential\"\n",
            "_________________________________________________________________\n",
            "Layer (type)                 Output Shape              Param #   \n",
            "=================================================================\n",
            "embedding (Embedding)        (None, 21, 100)           891500    \n",
            "_________________________________________________________________\n",
            "bidirectional (Bidirectional (None, 512)               731136    \n",
            "_________________________________________________________________\n",
            "dense (Dense)                (None, 8915)              4573395   \n",
            "=================================================================\n",
            "Total params: 6,196,031\n",
            "Trainable params: 6,196,031\n",
            "Non-trainable params: 0\n",
            "_________________________________________________________________\n"
          ]
        }
      ]
    },
    {
      "cell_type": "code",
      "metadata": {
        "id": "PQ5VZnoy1WkK"
      },
      "source": [
        "# Adding the call back\n",
        "from tensorflow.keras.callbacks import EarlyStopping\n"
      ],
      "execution_count": 26,
      "outputs": []
    },
    {
      "cell_type": "code",
      "metadata": {
        "id": "hyfixP_c386h"
      },
      "source": [
        "es=EarlyStopping(monitor='accuracy',min_delta=0.01)"
      ],
      "execution_count": 27,
      "outputs": []
    },
    {
      "cell_type": "code",
      "metadata": {
        "id": "05YpuCBh4EOl",
        "colab": {
          "base_uri": "https://localhost:8080/"
        },
        "outputId": "4ae5bb7b-4cff-4abe-893d-1c5c13220706"
      },
      "source": [
        "model.fit(x,y,epochs=50, verbose=True, batch_size=512)"
      ],
      "execution_count": 28,
      "outputs": [
        {
          "output_type": "stream",
          "name": "stdout",
          "text": [
            "Epoch 1/50\n",
            "WARNING:tensorflow:Model was constructed with shape (None, 21) for input KerasTensor(type_spec=TensorSpec(shape=(None, 21), dtype=tf.float32, name='embedding_input'), name='embedding_input', description=\"created by layer 'embedding_input'\"), but it was called on an input with incompatible shape (None, 19).\n",
            "WARNING:tensorflow:Model was constructed with shape (None, 21) for input KerasTensor(type_spec=TensorSpec(shape=(None, 21), dtype=tf.float32, name='embedding_input'), name='embedding_input', description=\"created by layer 'embedding_input'\"), but it was called on an input with incompatible shape (None, 19).\n",
            "199/199 [==============================] - 19s 69ms/step - loss: 6.2055 - accuracy: 0.0851\n",
            "Epoch 2/50\n",
            "199/199 [==============================] - 14s 69ms/step - loss: 5.3375 - accuracy: 0.1411\n",
            "Epoch 3/50\n",
            "199/199 [==============================] - 14s 69ms/step - loss: 4.8120 - accuracy: 0.1696\n",
            "Epoch 4/50\n",
            "199/199 [==============================] - 14s 69ms/step - loss: 4.3045 - accuracy: 0.1998\n",
            "Epoch 5/50\n",
            "199/199 [==============================] - 14s 69ms/step - loss: 3.8035 - accuracy: 0.2419\n",
            "Epoch 6/50\n",
            "199/199 [==============================] - 14s 68ms/step - loss: 3.3558 - accuracy: 0.2928\n",
            "Epoch 7/50\n",
            "199/199 [==============================] - 14s 68ms/step - loss: 2.9781 - accuracy: 0.3464\n",
            "Epoch 8/50\n",
            "199/199 [==============================] - 14s 68ms/step - loss: 2.6672 - accuracy: 0.3939\n",
            "Epoch 9/50\n",
            "199/199 [==============================] - 14s 68ms/step - loss: 2.4066 - accuracy: 0.4409\n",
            "Epoch 10/50\n",
            "199/199 [==============================] - 14s 68ms/step - loss: 2.1983 - accuracy: 0.4780\n",
            "Epoch 11/50\n",
            "199/199 [==============================] - 14s 68ms/step - loss: 2.0275 - accuracy: 0.5114\n",
            "Epoch 12/50\n",
            "199/199 [==============================] - 13s 68ms/step - loss: 1.8789 - accuracy: 0.5409\n",
            "Epoch 13/50\n",
            "199/199 [==============================] - 14s 68ms/step - loss: 1.7616 - accuracy: 0.5647\n",
            "Epoch 14/50\n",
            "199/199 [==============================] - 14s 68ms/step - loss: 1.6442 - accuracy: 0.5887\n",
            "Epoch 15/50\n",
            "199/199 [==============================] - 13s 68ms/step - loss: 1.5466 - accuracy: 0.6102\n",
            "Epoch 16/50\n",
            "199/199 [==============================] - 14s 68ms/step - loss: 1.4916 - accuracy: 0.6188\n",
            "Epoch 17/50\n",
            "199/199 [==============================] - 14s 68ms/step - loss: 1.4346 - accuracy: 0.6311\n",
            "Epoch 18/50\n",
            "199/199 [==============================] - 14s 68ms/step - loss: 1.3824 - accuracy: 0.6427\n",
            "Epoch 19/50\n",
            "199/199 [==============================] - 13s 68ms/step - loss: 1.3334 - accuracy: 0.6518\n",
            "Epoch 20/50\n",
            "199/199 [==============================] - 14s 68ms/step - loss: 1.3099 - accuracy: 0.6543\n",
            "Epoch 21/50\n",
            "199/199 [==============================] - 13s 68ms/step - loss: 1.2816 - accuracy: 0.6618\n",
            "Epoch 22/50\n",
            "199/199 [==============================] - 13s 68ms/step - loss: 1.2660 - accuracy: 0.6624\n",
            "Epoch 23/50\n",
            "199/199 [==============================] - 13s 68ms/step - loss: 1.2381 - accuracy: 0.6678\n",
            "Epoch 24/50\n",
            "199/199 [==============================] - 14s 68ms/step - loss: 1.2125 - accuracy: 0.6751\n",
            "Epoch 25/50\n",
            "199/199 [==============================] - 14s 68ms/step - loss: 1.2076 - accuracy: 0.6754\n",
            "Epoch 26/50\n",
            "199/199 [==============================] - 14s 68ms/step - loss: 1.1937 - accuracy: 0.6770\n",
            "Epoch 27/50\n",
            "199/199 [==============================] - 14s 68ms/step - loss: 1.1804 - accuracy: 0.6803\n",
            "Epoch 28/50\n",
            "199/199 [==============================] - 14s 68ms/step - loss: 1.1639 - accuracy: 0.6852\n",
            "Epoch 29/50\n",
            "199/199 [==============================] - 14s 68ms/step - loss: 1.1629 - accuracy: 0.6826\n",
            "Epoch 30/50\n",
            "199/199 [==============================] - 14s 68ms/step - loss: 1.1541 - accuracy: 0.6851\n",
            "Epoch 31/50\n",
            "199/199 [==============================] - 14s 68ms/step - loss: 1.1621 - accuracy: 0.6816\n",
            "Epoch 32/50\n",
            "199/199 [==============================] - 14s 68ms/step - loss: 1.1603 - accuracy: 0.6802\n",
            "Epoch 33/50\n",
            "199/199 [==============================] - 14s 68ms/step - loss: 1.1739 - accuracy: 0.6779\n",
            "Epoch 34/50\n",
            "199/199 [==============================] - 14s 68ms/step - loss: 1.1728 - accuracy: 0.6766\n",
            "Epoch 35/50\n",
            "199/199 [==============================] - 14s 68ms/step - loss: 1.1512 - accuracy: 0.6831\n",
            "Epoch 36/50\n",
            "199/199 [==============================] - 14s 68ms/step - loss: 1.1318 - accuracy: 0.6869\n",
            "Epoch 37/50\n",
            "199/199 [==============================] - 14s 68ms/step - loss: 1.1447 - accuracy: 0.6838\n",
            "Epoch 38/50\n",
            "199/199 [==============================] - 14s 68ms/step - loss: 1.1244 - accuracy: 0.6886\n",
            "Epoch 39/50\n",
            "199/199 [==============================] - 14s 68ms/step - loss: 1.1338 - accuracy: 0.6849\n",
            "Epoch 40/50\n",
            "199/199 [==============================] - 13s 68ms/step - loss: 1.1532 - accuracy: 0.6795\n",
            "Epoch 41/50\n",
            "199/199 [==============================] - 14s 68ms/step - loss: 1.1493 - accuracy: 0.6807\n",
            "Epoch 42/50\n",
            "199/199 [==============================] - 14s 68ms/step - loss: 1.1293 - accuracy: 0.6863\n",
            "Epoch 43/50\n",
            "199/199 [==============================] - 14s 68ms/step - loss: 1.1624 - accuracy: 0.6775\n",
            "Epoch 44/50\n",
            "199/199 [==============================] - 13s 68ms/step - loss: 1.1729 - accuracy: 0.6756\n",
            "Epoch 45/50\n",
            "199/199 [==============================] - 14s 68ms/step - loss: 1.1491 - accuracy: 0.6810\n",
            "Epoch 46/50\n",
            "199/199 [==============================] - 13s 68ms/step - loss: 1.1335 - accuracy: 0.6837\n",
            "Epoch 47/50\n",
            "199/199 [==============================] - 14s 68ms/step - loss: 1.1133 - accuracy: 0.6884\n",
            "Epoch 48/50\n",
            "199/199 [==============================] - 14s 68ms/step - loss: 1.1274 - accuracy: 0.6856\n",
            "Epoch 49/50\n",
            "199/199 [==============================] - 14s 69ms/step - loss: 1.1304 - accuracy: 0.6842\n",
            "Epoch 50/50\n",
            "199/199 [==============================] - 14s 69ms/step - loss: 1.1346 - accuracy: 0.6847\n"
          ]
        },
        {
          "output_type": "execute_result",
          "data": {
            "text/plain": [
              "<keras.callbacks.History at 0x7f03d02f99d0>"
            ]
          },
          "metadata": {},
          "execution_count": 28
        }
      ]
    },
    {
      "cell_type": "code",
      "metadata": {
        "id": "sfrFqjIb4MX0"
      },
      "source": [
        "model.save(\"Text Generation.h5\")"
      ],
      "execution_count": 29,
      "outputs": []
    },
    {
      "cell_type": "code",
      "metadata": {
        "id": "_gn2iy0KHGNP"
      },
      "source": [
        "from google.colab import files"
      ],
      "execution_count": 51,
      "outputs": []
    },
    {
      "cell_type": "code",
      "metadata": {
        "colab": {
          "base_uri": "https://localhost:8080/",
          "height": 17
        },
        "id": "1LeKgOHdG8ao",
        "outputId": "5a9d4a61-c938-452f-cf35-8222590b0976"
      },
      "source": [
        "files.download(\"Text Generation.h5\")"
      ],
      "execution_count": 53,
      "outputs": [
        {
          "output_type": "display_data",
          "data": {
            "application/javascript": [
              "\n",
              "    async function download(id, filename, size) {\n",
              "      if (!google.colab.kernel.accessAllowed) {\n",
              "        return;\n",
              "      }\n",
              "      const div = document.createElement('div');\n",
              "      const label = document.createElement('label');\n",
              "      label.textContent = `Downloading \"${filename}\": `;\n",
              "      div.appendChild(label);\n",
              "      const progress = document.createElement('progress');\n",
              "      progress.max = size;\n",
              "      div.appendChild(progress);\n",
              "      document.body.appendChild(div);\n",
              "\n",
              "      const buffers = [];\n",
              "      let downloaded = 0;\n",
              "\n",
              "      const channel = await google.colab.kernel.comms.open(id);\n",
              "      // Send a message to notify the kernel that we're ready.\n",
              "      channel.send({})\n",
              "\n",
              "      for await (const message of channel.messages) {\n",
              "        // Send a message to notify the kernel that we're ready.\n",
              "        channel.send({})\n",
              "        if (message.buffers) {\n",
              "          for (const buffer of message.buffers) {\n",
              "            buffers.push(buffer);\n",
              "            downloaded += buffer.byteLength;\n",
              "            progress.value = downloaded;\n",
              "          }\n",
              "        }\n",
              "      }\n",
              "      const blob = new Blob(buffers, {type: 'application/binary'});\n",
              "      const a = document.createElement('a');\n",
              "      a.href = window.URL.createObjectURL(blob);\n",
              "      a.download = filename;\n",
              "      div.appendChild(a);\n",
              "      a.click();\n",
              "      div.remove();\n",
              "    }\n",
              "  "
            ],
            "text/plain": [
              "<IPython.core.display.Javascript object>"
            ]
          },
          "metadata": {}
        },
        {
          "output_type": "display_data",
          "data": {
            "application/javascript": [
              "download(\"download_7e50efd6-716b-464e-8391-af8b03177b98\", \"Text Generation.h5\", 74404836)"
            ],
            "text/plain": [
              "<IPython.core.display.Javascript object>"
            ]
          },
          "metadata": {}
        }
      ]
    },
    {
      "cell_type": "markdown",
      "metadata": {
        "id": "WcKNmL-C-tqF"
      },
      "source": [
        "#Generating some text"
      ]
    },
    {
      "cell_type": "code",
      "metadata": {
        "colab": {
          "base_uri": "https://localhost:8080/"
        },
        "id": "EJgOr84n-9PI",
        "outputId": "f583f3c2-74ca-48e6-c7f1-92dda1b15455"
      },
      "source": [
        "seed_text= \"I could not stop laughing at the ease with which explained his process of deduction\"\n",
        "next_words=100\n",
        "\n",
        "for _ in range(next_words):\n",
        "  sequence=tokenizer.texts_to_sequences([seed_text])\n",
        "  padded=pad_sequences(sequence,max_sequence_len-1)\n",
        "  predicted=model.predict(padded)\n",
        "  predicted=np.argmax(predicted,axis=1)\n",
        "  output_word=\"\"\n",
        "  for word, index in tokenizer.word_index.items():\n",
        "    if index==predicted:\n",
        "      output_word=word\n",
        "     # print(output_word)\n",
        "      break\n",
        "  seed_text+=' '+output_word\n",
        "print(seed_text)\n"
      ],
      "execution_count": 36,
      "outputs": [
        {
          "output_type": "stream",
          "name": "stdout",
          "text": [
            "I could not stop laughing at the ease with which explained his process of deduction to have plenty of playing these own police and i must be so frightened about half an hour colonel sherlock holmes was a man and was even that it was full of thirty a woman he was in a boiling fight against and every moment when the son was gone up right for him i see that she has said to reason from the business to the subject to mr jabez wilson here upon which you have read so little ” he picked it up so there and a few men in the lady’s lady’s room—you and a little methods\n"
          ]
        }
      ]
    },
    {
      "cell_type": "code",
      "metadata": {
        "id": "ZWcEKy6nBUR9"
      },
      "source": [
        ""
      ],
      "execution_count": 48,
      "outputs": []
    },
    {
      "cell_type": "code",
      "metadata": {
        "id": "iiGfccecBw96"
      },
      "source": [
        ""
      ],
      "execution_count": null,
      "outputs": []
    }
  ]
}